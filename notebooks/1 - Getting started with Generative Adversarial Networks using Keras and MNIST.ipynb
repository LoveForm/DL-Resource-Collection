{
 "cells": [
  {
   "cell_type": "markdown",
   "metadata": {},
   "source": [
    "# Using GANs and Keras"
   ]
  },
  {
   "cell_type": "code",
   "execution_count": 1,
   "metadata": {},
   "outputs": [
    {
     "name": "stderr",
     "output_type": "stream",
     "text": [
      "Using TensorFlow backend.\n"
     ]
    }
   ],
   "source": [
    "from keras.models import Sequential\n",
    "from keras.layers import Dense, Activation, Flatten, Reshape\n",
    "from keras.layers import Conv2D, UpSampling2D\n",
    "from keras.layers import LeakyReLU, Dropout\n",
    "from keras.layers import BatchNormalization\n",
    "from keras.optimizers import Adam, SGD, RMSprop\n",
    "\n",
    "import numpy as np\n",
    "import matplotlib.pyplot as plt\n",
    "from IPython.display import clear_output, Image\n",
    "\n",
    "from tensorflow.examples.tutorials.mnist import input_data\n"
   ]
  },
  {
   "cell_type": "code",
   "execution_count": 2,
   "metadata": {
    "collapsed": true
   },
   "outputs": [],
   "source": [
    "import keras.backend.tensorflow_backend as ktf\n",
    "import tensorflow as tf\n",
    "import os\n",
    "\n",
    "def get_session(gpu_fraction=0.45):\n",
    "    '''Assume that you have 6GB of GPU memory and want to allocate ~2GB'''\n",
    "\n",
    "    num_threads = os.environ.get('OMP_NUM_THREADS')\n",
    "    gpu_options = tf.GPUOptions(per_process_gpu_memory_fraction=gpu_fraction)\n",
    "\n",
    "    if num_threads:\n",
    "        return tf.Session(config=tf.ConfigProto(\n",
    "            gpu_options=gpu_options, intra_op_parallelism_threads=num_threads))\n",
    "    else:\n",
    "        return tf.Session(config=tf.ConfigProto(gpu_options=gpu_options))\n",
    "\n",
    "ktf.set_session(get_session())"
   ]
  },
  {
   "cell_type": "markdown",
   "metadata": {},
   "source": [
    "## Defining the discriminator\n",
    "\n",
    "In our two-player game the discriminator takes the role of the police: given an image it has to find out whether the image is fake or not. Given this requirement, the input of our discriminator network is a (28x28x1) input patch, equal to the dimensions of an MNIST image. The output is a single node. The setup of the networks is roughly based on the [DCGAN paper](https://arxiv.org/abs/1511.06434) and one of its [implementations](https://github.com/carpedm20/DCGAN-tensorflow).\n",
    "\n",
    "We use `LeakyReLU` in between the convolution layers to improve the gradients. "
   ]
  },
  {
   "cell_type": "code",
   "execution_count": 3,
   "metadata": {
    "collapsed": true
   },
   "outputs": [],
   "source": [
    "def discriminator():\n",
    "    \n",
    "    net = Sequential()\n",
    "    input_shape = (28, 28, 1)\n",
    "    dropout_prob = 0.4\n",
    "\n",
    "    net.add(Conv2D(64, 5, strides=2, input_shape=input_shape, padding='same'))\n",
    "    net.add(LeakyReLU())\n",
    "    \n",
    "    net.add(Conv2D(128, 5, strides=2, padding='same'))\n",
    "    net.add(LeakyReLU())\n",
    "    net.add(Dropout(dropout_prob))\n",
    "    \n",
    "    net.add(Conv2D(256, 5, strides=2, padding='same'))\n",
    "    net.add(LeakyReLU())\n",
    "    net.add(Dropout(dropout_prob))\n",
    "    \n",
    "    net.add(Conv2D(512, 5, strides=1, padding='same'))\n",
    "    net.add(LeakyReLU())\n",
    "    net.add(Dropout(dropout_prob))\n",
    "    \n",
    "    net.add(Flatten())\n",
    "    net.add(Dense(1))\n",
    "    net.add(Activation('sigmoid'))\n",
    "    \n",
    "    return net"
   ]
  },
  {
   "cell_type": "markdown",
   "metadata": {},
   "source": [
    "The full network structure is as follows:"
   ]
  },
  {
   "cell_type": "code",
   "execution_count": 4,
   "metadata": {},
   "outputs": [
    {
     "name": "stdout",
     "output_type": "stream",
     "text": [
      "_________________________________________________________________\n",
      "Layer (type)                 Output Shape              Param #   \n",
      "=================================================================\n",
      "conv2d_1 (Conv2D)            (None, 14, 14, 64)        1664      \n",
      "_________________________________________________________________\n",
      "leaky_re_lu_1 (LeakyReLU)    (None, 14, 14, 64)        0         \n",
      "_________________________________________________________________\n",
      "conv2d_2 (Conv2D)            (None, 7, 7, 128)         204928    \n",
      "_________________________________________________________________\n",
      "leaky_re_lu_2 (LeakyReLU)    (None, 7, 7, 128)         0         \n",
      "_________________________________________________________________\n",
      "dropout_1 (Dropout)          (None, 7, 7, 128)         0         \n",
      "_________________________________________________________________\n",
      "conv2d_3 (Conv2D)            (None, 4, 4, 256)         819456    \n",
      "_________________________________________________________________\n",
      "leaky_re_lu_3 (LeakyReLU)    (None, 4, 4, 256)         0         \n",
      "_________________________________________________________________\n",
      "dropout_2 (Dropout)          (None, 4, 4, 256)         0         \n",
      "_________________________________________________________________\n",
      "conv2d_4 (Conv2D)            (None, 4, 4, 512)         3277312   \n",
      "_________________________________________________________________\n",
      "leaky_re_lu_4 (LeakyReLU)    (None, 4, 4, 512)         0         \n",
      "_________________________________________________________________\n",
      "dropout_3 (Dropout)          (None, 4, 4, 512)         0         \n",
      "_________________________________________________________________\n",
      "flatten_1 (Flatten)          (None, 8192)              0         \n",
      "_________________________________________________________________\n",
      "dense_1 (Dense)              (None, 1)                 8193      \n",
      "_________________________________________________________________\n",
      "activation_1 (Activation)    (None, 1)                 0         \n",
      "=================================================================\n",
      "Total params: 4,311,553\n",
      "Trainable params: 4,311,553\n",
      "Non-trainable params: 0\n",
      "_________________________________________________________________\n"
     ]
    }
   ],
   "source": [
    "net_discriminator = discriminator()\n",
    "net_discriminator.summary()"
   ]
  },
  {
   "cell_type": "markdown",
   "metadata": {},
   "source": [
    "# Defining the generator\n",
    "\n",
    "The task of the generator, also known as \"the counterfeiter\", is to fool the discriminator by producing real-looking fake images. These images should eventually resemble the data distribution of the MNIST dataset.\n",
    "\n",
    "The structure of the generator is comparable to the discrminiator but in reverse. We start with a random vector of noise (length=100) and gradually upsample. To improve the output of the generator we use `UpSampling2D` and normal convolutions instead of transposed convolutions (see also [this article](https://distill.pub/2016/deconv-checkerboard/)). The sizes of the layers are adjusted to match the size of our data (28x28 as opposed to the 64x64 of the DCGAN paper)."
   ]
  },
  {
   "cell_type": "code",
   "execution_count": 5,
   "metadata": {
    "collapsed": true
   },
   "outputs": [],
   "source": [
    "def generator():\n",
    "    \n",
    "    net = Sequential()\n",
    "    dropout_prob = 0.4\n",
    "    \n",
    "    net.add(Dense(7*7*256, input_dim=100))\n",
    "    net.add(BatchNormalization(momentum=0.9))\n",
    "    net.add(LeakyReLU())\n",
    "    net.add(Reshape((7,7,256)))\n",
    "    net.add(Dropout(dropout_prob))\n",
    "    \n",
    "    net.add(UpSampling2D())\n",
    "    net.add(Conv2D(128, 5, padding='same'))\n",
    "    net.add(BatchNormalization(momentum=0.9))\n",
    "    net.add(LeakyReLU())\n",
    "    \n",
    "    net.add(UpSampling2D())\n",
    "    net.add(Conv2D(64, 5, padding='same'))\n",
    "    net.add(BatchNormalization(momentum=0.9))\n",
    "    net.add(LeakyReLU())\n",
    "    \n",
    "    net.add(Conv2D(32, 5, padding='same'))\n",
    "    net.add(BatchNormalization(momentum=0.9))\n",
    "    net.add(LeakyReLU())\n",
    "    \n",
    "    net.add(Conv2D(1, 5, padding='same'))\n",
    "    net.add(Activation('sigmoid'))\n",
    "    \n",
    "    return net"
   ]
  },
  {
   "cell_type": "markdown",
   "metadata": {},
   "source": [
    "The full network of the generator looks as follows:"
   ]
  },
  {
   "cell_type": "code",
   "execution_count": 6,
   "metadata": {
    "scrolled": true
   },
   "outputs": [
    {
     "name": "stdout",
     "output_type": "stream",
     "text": [
      "_________________________________________________________________\n",
      "Layer (type)                 Output Shape              Param #   \n",
      "=================================================================\n",
      "dense_2 (Dense)              (None, 12544)             1266944   \n",
      "_________________________________________________________________\n",
      "batch_normalization_1 (Batch (None, 12544)             50176     \n",
      "_________________________________________________________________\n",
      "leaky_re_lu_5 (LeakyReLU)    (None, 12544)             0         \n",
      "_________________________________________________________________\n",
      "reshape_1 (Reshape)          (None, 7, 7, 256)         0         \n",
      "_________________________________________________________________\n",
      "dropout_4 (Dropout)          (None, 7, 7, 256)         0         \n",
      "_________________________________________________________________\n",
      "up_sampling2d_1 (UpSampling2 (None, 14, 14, 256)       0         \n",
      "_________________________________________________________________\n",
      "conv2d_5 (Conv2D)            (None, 14, 14, 128)       819328    \n",
      "_________________________________________________________________\n",
      "batch_normalization_2 (Batch (None, 14, 14, 128)       512       \n",
      "_________________________________________________________________\n",
      "leaky_re_lu_6 (LeakyReLU)    (None, 14, 14, 128)       0         \n",
      "_________________________________________________________________\n",
      "up_sampling2d_2 (UpSampling2 (None, 28, 28, 128)       0         \n",
      "_________________________________________________________________\n",
      "conv2d_6 (Conv2D)            (None, 28, 28, 64)        204864    \n",
      "_________________________________________________________________\n",
      "batch_normalization_3 (Batch (None, 28, 28, 64)        256       \n",
      "_________________________________________________________________\n",
      "leaky_re_lu_7 (LeakyReLU)    (None, 28, 28, 64)        0         \n",
      "_________________________________________________________________\n",
      "conv2d_7 (Conv2D)            (None, 28, 28, 32)        51232     \n",
      "_________________________________________________________________\n",
      "batch_normalization_4 (Batch (None, 28, 28, 32)        128       \n",
      "_________________________________________________________________\n",
      "leaky_re_lu_8 (LeakyReLU)    (None, 28, 28, 32)        0         \n",
      "_________________________________________________________________\n",
      "conv2d_8 (Conv2D)            (None, 28, 28, 1)         801       \n",
      "_________________________________________________________________\n",
      "activation_2 (Activation)    (None, 28, 28, 1)         0         \n",
      "=================================================================\n",
      "Total params: 2,394,241\n",
      "Trainable params: 2,368,705\n",
      "Non-trainable params: 25,536\n",
      "_________________________________________________________________\n"
     ]
    }
   ],
   "source": [
    "net_generator = generator()\n",
    "net_generator.summary()"
   ]
  },
  {
   "cell_type": "markdown",
   "metadata": {},
   "source": [
    "# Creating the models\n",
    "\n",
    "We now defined the two separate networks but these still need to be combined in to two trainable models: one to train the discrmininator and one to train the generator. We first start with the most simple one which is the discriminator model.\n",
    "\n",
    "For the discriminator model we only have to define the optimizer, all the other parts of the model are already defined. We use `SGD` as the optimizer with a low learning rate and clip the values between -1 and 1. A small decay in the learning rate can help with stabilizing. Besides the loss we also tell Keras to gives us the accuracy as a metric."
   ]
  },
  {
   "cell_type": "code",
   "execution_count": 7,
   "metadata": {},
   "outputs": [
    {
     "name": "stdout",
     "output_type": "stream",
     "text": [
      "_________________________________________________________________\n",
      "Layer (type)                 Output Shape              Param #   \n",
      "=================================================================\n",
      "sequential_1 (Sequential)    (None, 1)                 4311553   \n",
      "=================================================================\n",
      "Total params: 4,311,553\n",
      "Trainable params: 4,311,553\n",
      "Non-trainable params: 0\n",
      "_________________________________________________________________\n"
     ]
    }
   ],
   "source": [
    "optim_discriminator = RMSprop(lr=0.0008, clipvalue=1.0, decay=1e-10)\n",
    "model_discriminator = Sequential()\n",
    "model_discriminator.add(net_discriminator)\n",
    "model_discriminator.compile(loss='binary_crossentropy', optimizer=optim_discriminator, metrics=['accuracy'])\n",
    "\n",
    "model_discriminator.summary()"
   ]
  },
  {
   "cell_type": "markdown",
   "metadata": {},
   "source": [
    "The model for the generator is a bit more complex. The generator needs to fool the discriminator by generating images. To train the generator we need to assess its performance on the output of the discriminator. For this we add both networks to a combined model: *the adversarial model*. Our adverserial model uses random noise as its input and outputs the eventual prediction of the discriminator on the generated images. \n",
    "\n",
    "The generator performs well if the adverserial model outputs 'real' on all inputs. In other words, for any input of the adversial network aim to get an output classifying the generated image as real. This means, however, that the discriminator failed (which is a good thing for the generator). If we would use normal back propagation here on the full adversarial model we would update slowly push the discriminator to update itself and start classifying fake images as real. To prevent this we must freeze the part of the model that belongs to the discriminator.\n",
    "\n",
    "In Keras freezing a model is easily done by freezing all the layers of the model. By setting the `trainable` parameter to `False` we prevent the layer of updating within this particular model (it is still trainable in the discriminator model).\n",
    "\n",
    "The adversarial model uses `Adam` as the optimizer with the default values for the momentum."
   ]
  },
  {
   "cell_type": "code",
   "execution_count": 8,
   "metadata": {},
   "outputs": [
    {
     "name": "stdout",
     "output_type": "stream",
     "text": [
      "_________________________________________________________________\n",
      "Layer (type)                 Output Shape              Param #   \n",
      "=================================================================\n",
      "sequential_2 (Sequential)    (None, 28, 28, 1)         2394241   \n",
      "_________________________________________________________________\n",
      "sequential_1 (Sequential)    (None, 1)                 4311553   \n",
      "=================================================================\n",
      "Total params: 6,705,794\n",
      "Trainable params: 2,368,705\n",
      "Non-trainable params: 4,337,089\n",
      "_________________________________________________________________\n"
     ]
    }
   ],
   "source": [
    "optim_adversarial = Adam(lr=0.0004, clipvalue=1.0, decay=1e-10)\n",
    "model_adversarial = Sequential()\n",
    "model_adversarial.add(net_generator)\n",
    "\n",
    "# Disable layers in discriminator\n",
    "for layer in net_discriminator.layers:\n",
    "    layer.trainable = False\n",
    "\n",
    "model_adversarial.add(net_discriminator)\n",
    "model_adversarial.compile(loss='binary_crossentropy', optimizer=optim_adversarial, metrics=['accuracy'])\n",
    "\n",
    "model_adversarial.summary()\n"
   ]
  },
  {
   "cell_type": "markdown",
   "metadata": {},
   "source": [
    "Note that the number of non-trainable parameters is very high. This is exactly what we want! \n",
    "\n"
   ]
  },
  {
   "cell_type": "markdown",
   "metadata": {},
   "source": [
    "# Reading MNIST data\n",
    "\n",
    "We can now read our training data. For this I use a small utility function from Tensorflow."
   ]
  },
  {
   "cell_type": "code",
   "execution_count": 9,
   "metadata": {},
   "outputs": [
    {
     "name": "stdout",
     "output_type": "stream",
     "text": [
      "Extracting mnist/train-images-idx3-ubyte.gz\n",
      "Extracting mnist/train-labels-idx1-ubyte.gz\n",
      "Extracting mnist/t10k-images-idx3-ubyte.gz\n",
      "Extracting mnist/t10k-labels-idx1-ubyte.gz\n"
     ]
    }
   ],
   "source": [
    "# Read MNIST data\n",
    "x_train = input_data.read_data_sets(\"mnist\", one_hot=True).train.images\n",
    "x_train = x_train.reshape(-1, 28, 28, 1).astype(np.float32)\n",
    "\n",
    "# Map the images to a new range [-1, 1]\n",
    "#x_train = x_train / 0.5 - 1\n"
   ]
  },
  {
   "cell_type": "markdown",
   "metadata": {},
   "source": [
    "# Training the GAN\n",
    "\n",
    "With our models defined and the data loaded we can start training our GAN. The models are trained one after another, starting with the discriminator. The discriminator is trained on a data set of both fake and real images and tries to classify them correctly. The adversarial model is trained on noise vectors as explained above.\n",
    "\n"
   ]
  },
  {
   "cell_type": "code",
   "execution_count": 10,
   "metadata": {},
   "outputs": [
    {
     "data": {
      "image/png": "iVBORw0KGgoAAAANSUhEUgAAA5wAAAHWCAYAAAAb7obyAAAABHNCSVQICAgIfAhkiAAAAAlwSFlz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\nkdHixI29RARGbB95v63CQboO/PgBcNSpgMqbtRKdCKQcJX8PyJfvpS3BGZ