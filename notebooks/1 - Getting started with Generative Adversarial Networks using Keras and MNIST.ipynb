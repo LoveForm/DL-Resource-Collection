{
 "cells": [
  {
   "cell_type": "markdown",
   "metadata": {},
   "source": [
    "# Using GANs and Keras"
   ]
  },
  {
   "cell_type": "code",
   "execution_count": 1,
   "metadata": {},
   "outputs": [
    {
     "name": "stderr",
     "output_type": "stream",
     "text": [
      "Using TensorFlow backend.\n"
     ]
    }
   ],
   "source": [
    "from keras.models import Sequential\n",
    "from keras.layers import Dense, Activation, Flatten, Reshape\n",
    "from keras.layers import Conv2D, UpSampling2D\n",
    "from keras.layers import LeakyReLU, Dropout\n",
    "from keras.layers import BatchNormalization\n",
    "from keras.optimizers import Adam, SGD, RMSprop\n",
    "\n",
    "import numpy as np\n",
    "import matplotlib.pyplot as plt\n",
    "from IPython.display import clear_output, Image\n",
    "\n",
    "from tensorflow.examples.tutorials.mnist import input_data\n"
   ]
  },
  {
   "cell_type": "code",
   "execution_count": 2,
   "metadata": {
    "collapsed": true
   },
   "outputs": [],
   "source": [
    "import keras.backend.tensorflow_backend as ktf\n",
    "import tensorflow as tf\n",
    "import os\n",
    "\n",
    "def get_session(gpu_fraction=0.45):\n",
    "    '''Assume that you have 6GB of GPU memory and want to allocate ~2GB'''\n",
    "\n",
    "    num_threads = os.environ.get('OMP_NUM_THREADS')\n",
    "    gpu_options = tf.GPUOptions(per_process_gpu_memory_fraction=gpu_fraction)\n",
    "\n",
    "    if num_threads:\n",
    "        return tf.Session(config=tf.ConfigProto(\n",
    "            gpu_options=gpu_options, intra_op_parallelism_threads=num_threads))\n",
    "    else:\n",
    "        return tf.Session(config=tf.ConfigProto(gpu_options=gpu_options))\n",
    "\n",
    "ktf.set_session(get_session())"
   ]
  },
  {
   "cell_type": "markdown",
   "metadata": {},
   "source": [
    "## Defining the discriminator\n",
    "\n",
    "In our two-player game the discriminator takes the role of the police: given an image it has to find out whether the image is fake or not. Given this requirement, the input of our discriminator network is a (28x28x1) input patch, equal to the dimensions of an MNIST image. The output is a single node. The setup of the networks is roughly based on the [DCGAN paper](https://arxiv.org/abs/1511.06434) and one of its [implementations](https://github.com/carpedm20/DCGAN-tensorflow).\n",
    "\n",
    "We use `LeakyReLU` in between the convolution layers to improve the gradients. "
   ]
  },
  {
   "cell_type": "code",
   "execution_count": 3,
   "metadata": {
    "collapsed": true
   },
   "outputs": [],
   "source": [
    "def discriminator():\n",
    "    \n",
    "    net = Sequential()\n",
    "    input_shape = (28, 28, 1)\n",
    "    dropout_prob = 0.4\n",
    "\n",
    "    net.add(Conv2D(64, 5, strides=2, input_shape=input_shape, padding='same'))\n",
    "    net.add(LeakyReLU())\n",
    "    \n",
    "    net.add(Conv2D(128, 5, strides=2, padding='same'))\n",
    "    net.add(LeakyReLU())\n",
    "    net.add(Dropout(dropout_prob))\n",
    "    \n",
    "    net.add(Conv2D(256, 5, strides=2, padding='same'))\n",
    "    net.add(LeakyReLU())\n",
    "    net.add(Dropout(dropout_prob))\n",
    "    \n",
    "    net.add(Conv2D(512, 5, strides=1, padding='same'))\n",
    "    net.add(LeakyReLU())\n",
    "    net.add(Dropout(dropout_prob))\n",
    "    \n",
    "    net.add(Flatten())\n",
    "    net.add(Dense(1))\n",
    "    net.add(Activation('sigmoid'))\n",
    "    \n",
    "    return net"
   ]
  },
  {
   "cell_type": "markdown",
   "metadata": {},
   "source": [
    "The full network structure is as follows:"
   ]
  },
  {
   "cell_type": "code",
   "execution_count": 4,
   "metadata": {},
   "outputs": [
    {
     "name": "stdout",
     "output_type": "stream",
     "text": [
      "_________________________________________________________________\n",
      "Layer (type)                 Output Shape              Param #   \n",
      "=================================================================\n",
      "conv2d_1 (Conv2D)            (None, 14, 14, 64)        1664      \n",
      "_________________________________________________________________\n",
      "leaky_re_lu_1 (LeakyReLU)    (None, 14, 14, 64)        0         \n",
      "_________________________________________________________________\n",
      "conv2d_2 (Conv2D)            (None, 7, 7, 128)         204928    \n",
      "_________________________________________________________________\n",
      "leaky_re_lu_2 (LeakyReLU)    (None, 7, 7, 128)         0         \n",
      "_________________________________________________________________\n",
      "dropout_1 (Dropout)          (None, 7, 7, 128)         0         \n",
      "_________________________________________________________________\n",
      "conv2d_3 (Conv2D)            (None, 4, 4, 256)         819456    \n",
      "_________________________________________________________________\n",
      "leaky_re_lu_3 (LeakyReLU)    (None, 4, 4, 256)         0         \n",
      "_________________________________________________________________\n",
      "dropout_2 (Dropout)          (None, 4, 4, 256)         0         \n",
      "_________________________________________________________________\n",
      "conv2d_4 (Conv2D)            (None, 4, 4, 512)         3277312   \n",
      "_________________________________________________________________\n",
      "leaky_re_lu_4 (LeakyReLU)    (None, 4, 4, 512)         0         \n",
      "_________________________________________________________________\n",
      "dropout_3 (Dropout)          (None, 4, 4, 512)         0         \n",
      "_________________________________________________________________\n",
      "flatten_1 (Flatten)          (None, 8192)              0         \n",
      "_________________________________________________________________\n",
      "dense_1 (Dense)              (None, 1)                 8193      \n",
      "_________________________________________________________________\n",
      "activation_1 (Activation)    (None, 1)                 0         \n",
      "=================================================================\n",
      "Total params: 4,311,553\n",
      "Trainable params: 4,311,553\n",
      "Non-trainable params: 0\n",
      "_________________________________________________________________\n"
     ]
    }
   ],
   "source": [
    "net_discriminator = discriminator()\n",
    "net_discriminator.summary()"
   ]
  },
  {
   "cell_type": "markdown",
   "metadata": {},
   "source": [
    "# Defining the generator\n",
    "\n",
    "The task of the generator, also known as \"the counterfeiter\", is to fool the discriminator by producing real-looking fake images. These images should eventually resemble the data distribution of the MNIST dataset.\n",
    "\n",
    "The structure of the generator is comparable to the discrminiator but in reverse. We start with a random vector of noise (length=100) and gradually upsample. To improve the output of the generator we use `UpSampling2D` and normal convolutions instead of transposed convolutions (see also [this article](https://distill.pub/2016/deconv-checkerboard/)). The sizes of the layers are adjusted to match the size of our data (28x28 as opposed to the 64x64 of the DCGAN paper)."
   ]
  },
  {
   "cell_type": "code",
   "execution_count": 5,
   "metadata": {
    "collapsed": true
   },
   "outputs": [],
   "source": [
    "def generator():\n",
    "    \n",
    "    net = Sequential()\n",
    "    dropout_prob = 0.4\n",
    "    \n",
    "    net.add(Dense(7*7*256, input_dim=100))\n",
    "    net.add(BatchNormalization(momentum=0.9))\n",
    "    net.add(LeakyReLU())\n",
    "    net.add(Reshape((7,7,256)))\n",
    "    net.add(Dropout(dropout_prob))\n",
    "    \n",
    "    net.add(UpSampling2D())\n",
    "    net.add(Conv2D(128, 5, padding='same'))\n",
    "    net.add(BatchNormalization(momentum=0.9))\n",
    "    net.add(LeakyReLU())\n",
    "    \n",
    "    net.add(UpSampling2D())\n",
    "    net.add(Conv2D(64, 5, padding='same'))\n",
    "    net.add(BatchNormalization(momentum=0.9))\n",
    "    net.add(LeakyReLU())\n",
    "    \n",
    "    net.add(Conv2D(32, 5, padding='same'))\n",
    "    net.add(BatchNormalization(momentum=0.9))\n",
    "    net.add(LeakyReLU())\n",
    "    \n",
    "    net.add(Conv2D(1, 5, padding='same'))\n",
    "    net.add(Activation('sigmoid'))\n",
    "    \n",
    "    return net"
   ]
  },
  {
   "cell_type": "markdown",
   "metadata": {},
   "source": [
    "The full network of the generator looks as follows:"
   ]
  },
  {
   "cell_type": "code",
   "execution_count": 6,
   "metadata": {
    "scrolled": true
   },
   "outputs": [
    {
     "name": "stdout",
     "output_type": "stream",
     "text": [
      "_________________________________________________________________\n",
      "Layer (type)                 Output Shape              Param #   \n",
      "=================================================================\n",
      "dense_2 (Dense)              (None, 12544)             1266944   \n",
      "_________________________________________________________________\n",
      "batch_normalization_1 (Batch (None, 12544)             50176     \n",
      "_________________________________________________________________\n",
      "leaky_re_lu_5 (LeakyReLU)    (None, 12544)             0         \n",
      "_________________________________________________________________\n",
      "reshape_1 (Reshape)          (None, 7, 7, 256)         0         \n",
      "_________________________________________________________________\n",
      "dropout_4 (Dropout)          (None, 7, 7, 256)         0         \n",
      "_________________________________________________________________\n",
      "up_sampling2d_1 (UpSampling2 (None, 14, 14, 256)       0         \n",
      "_________________________________________________________________\n",
      "conv2d_5 (Conv2D)            (None, 14, 14, 128)       819328    \n",
      "_________________________________________________________________\n",
      "batch_normalization_2 (Batch (None, 14, 14, 128)       512       \n",
      "_________________________________________________________________\n",
      "leaky_re_lu_6 (LeakyReLU)    (None, 14, 14, 128)       0         \n",
      "_________________________________________________________________\n",
      "up_sampling2d_2 (UpSampling2 (None, 28, 28, 128)       0         \n",
      "_________________________________________________________________\n",
      "conv2d_6 (Conv2D)            (None, 28, 28, 64)        204864    \n",
      "_________________________________________________________________\n",
      "batch_normalization_3 (Batch (None, 28, 28, 64)        256       \n",
      "_________________________________________________________________\n",
      "leaky_re_lu_7 (LeakyReLU)    (None, 28, 28, 64)        0         \n",
      "_________________________________________________________________\n",
      "conv2d_7 (Conv2D)            (None, 28, 28, 32)        51232     \n",
      "_________________________________________________________________\n",
      "batch_normalization_4 (Batch (None, 28, 28, 32)        128       \n",
      "_________________________________________________________________\n",
      "leaky_re_lu_8 (LeakyReLU)    (None, 28, 28, 32)        0         \n",
      "_________________________________________________________________\n",
      "conv2d_8 (Conv2D)            (None, 28, 28, 1)         801       \n",
      "_________________________________________________________________\n",
      "activation_2 (Activation)    (None, 28, 28, 1)         0         \n",
      "=================================================================\n",
      "Total params: 2,394,241\n",
      "Trainable params: 2,368,705\n",
      "Non-trainable params: 25,536\n",
      "_________________________________________________________________\n"
     ]
    }
   ],
   "source": [
    "net_generator = generator()\n",
    "net_generator.summary()"
   ]
  },
  {
   "cell_type": "markdown",
   "metadata": {},
   "source": [
    "# Creating the models\n",
    "\n",
    "We now defined the two separate networks but these still need to be combined in to two trainable models: one to train the discrmininator and one to train the generator. We first start with the most simple one which is the discriminator model.\n",
    "\n",
    "For the discriminator model we only have to define the optimizer, all the other parts of the model are already defined. We use `SGD` as the optimizer with a low learning rate and clip the values between -1 and 1. A small decay in the learning rate can help with stabilizing. Besides the loss we also tell Keras to gives us the accuracy as a metric."
   ]
  },
  {
   "cell_type": "code",
   "execution_count": 7,
   "metadata": {},
   "outputs": [
    {
     "name": "stdout",
     "output_type": "stream",
     "text": [
      "_________________________________________________________________\n",
      "Layer (type)                 Output Shape              Param #   \n",
      "=================================================================\n",
      "sequential_1 (Sequential)    (None, 1)                 4311553   \n",
      "=================================================================\n",
      "Total params: 4,311,553\n",
      "Trainable params: 4,311,553\n",
      "Non-trainable params: 0\n",
      "_________________________________________________________________\n"
     ]
    }
   ],
   "source": [
    "optim_discriminator = RMSprop(lr=0.0008, clipvalue=1.0, decay=1e-10)\n",
    "model_discriminator = Sequential()\n",
    "model_discriminator.add(net_discriminator)\n",
    "model_discriminator.compile(loss='binary_crossentropy', optimizer=optim_discriminator, metrics=['accuracy'])\n",
    "\n",
    "model_discriminator.summary()"
   ]
  },
  {
   "cell_type": "markdown",
   "metadata": {},
   "source": [
    "The model for the generator is a bit more complex. The generator needs to fool the discriminator by generating images. To train the generator we need to assess its performance on the output of the discriminator. For this we add both networks to a combined model: *the adversarial model*. Our adverserial model uses random noise as its input and outputs the eventual prediction of the discriminator on the generated images. \n",
    "\n",
    "The generator performs well if the adverserial model outputs 'real' on all inputs. In other words, for any input of the adversial network aim to get an output classifying the generated image as real. This means, however, that the discriminator failed (which is a good thing for the generator). If we would use normal back propagation here on the full adversarial model we would update slowly push the discriminator to update itself and start classifying fake images as real. To prevent this we must freeze the part of the model that belongs to the discriminator.\n",
    "\n",
    "In Keras freezing a model is easily done by freezing all the layers of the model. By setting the `trainable` parameter to `False` we prevent the layer of updating within this particular model (it is still trainable in the discriminator model).\n",
    "\n",
    "The adversarial model uses `Adam` as the optimizer with the default values for the momentum."
   ]
  },
  {
   "cell_type": "code",
   "execution_count": 8,
   "metadata": {},
   "outputs": [
    {
     "name": "stdout",
     "output_type": "stream",
     "text": [
      "_________________________________________________________________\n",
      "Layer (type)                 Output Shape              Param #   \n",
      "=================================================================\n",
      "sequential_2 (Sequential)    (None, 28, 28, 1)         2394241   \n",
      "_________________________________________________________________\n",
      "sequential_1 (Sequential)    (None, 1)                 4311553   \n",
      "=================================================================\n",
      "Total params: 6,705,794\n",
      "Trainable params: 2,368,705\n",
      "Non-trainable params: 4,337,089\n",
      "_________________________________________________________________\n"
     ]
    }
   ],
   "source": [
    "optim_adversarial = Adam(lr=0.0004, clipvalue=1.0, decay=1e-10)\n",
    "model_adversarial = Sequential()\n",
    "model_adversarial.add(net_generator)\n",
    "\n",
    "# Disable layers in discriminator\n",
    "for layer in net_discriminator.layers:\n",
    "    layer.trainable = False\n",
    "\n",
    "model_adversarial.add(net_discriminator)\n",
    "model_adversarial.compile(loss='binary_crossentropy', optimizer=optim_adversarial, metrics=['accuracy'])\n",
    "\n",
    "model_adversarial.summary()\n"
   ]
  },
  {
   "cell_type": "markdown",
   "metadata": {},
   "source": [
    "Note that the number of non-trainable parameters is very high. This is exactly what we want! \n",
    "\n"
   ]
  },
  {
   "cell_type": "markdown",
   "metadata": {},
   "source": [
    "# Reading MNIST data\n",
    "\n",
    "We can now read our training data. For this I use a small utility function from Tensorflow."
   ]
  },
  {
   "cell_type": "code",
   "execution_count": 9,
   "metadata": {},
   "outputs": [
    {
     "name": "stdout",
     "output_type": "stream",
     "text": [
      "Extracting mnist/train-images-idx3-ubyte.gz\n",
      "Extracting mnist/train-labels-idx1-ubyte.gz\n",
      "Extracting mnist/t10k-images-idx3-ubyte.gz\n",
      "Extracting mnist/t10k-labels-idx1-ubyte.gz\n"
     ]
    }
   ],
   "source": [
    "# Read MNIST data\n",
    "x_train = input_data.read_data_sets(\"mnist\", one_hot=True).train.images\n",
    "x_train = x_train.reshape(-1, 28, 28, 1).astype(np.float32)\n",
    "\n",
    "# Map the images to a new range [-1, 1]\n",
    "#x_train = x_train / 0.5 - 1\n"
   ]
  },
  {
   "cell_type": "markdown",
   "metadata": {},
   "source": [
    "# Training the GAN\n",
    "\n",
    "With our models defined and the data loaded we can start training our GAN. The models are trained one after another, starting with the discriminator. The discriminator is trained on a data set of both fake and real images and tries to classify them correctly. The adversarial model is trained on noise vectors as explained above.\n",
    "\n"
   ]
  },
  {
   "cell_type": "code",
   "execution_count": 10,
   "metadata": {},
   "outputs": [
    {
     "data": {
      "image/png": "iVBORw0KGgoAAAANSUhEUgAAA5wAAAHWCAYAAAAb7obyAAAABHNCSVQICAgIfAhkiAAAAAlwSFlz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\n5tp1ALNTOOm80f3SmpBS+7f3n4UXSDx9+SA51r6n+3N