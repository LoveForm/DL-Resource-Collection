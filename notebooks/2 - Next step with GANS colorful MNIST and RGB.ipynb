{
 "cells": [
  {
   "cell_type": "markdown",
   "metadata": {},
   "source": [
    "# MNIST with colors"
   ]
  },
  {
   "cell_type": "code",
   "execution_count": 1,
   "metadata": {},
   "outputs": [
    {
     "name": "stderr",
     "output_type": "stream",
     "text": [
      "Using TensorFlow backend.\n"
     ]
    }
   ],
   "source": [
    "from keras.models import Sequential\n",
    "from keras.layers import Dense, Activation, Flatten, Reshape\n",
    "from keras.layers import Conv2D, Conv2DTranspose, UpSampling2D\n",
    "from keras.layers import LeakyReLU, Dropout\n",
    "from keras.layers import BatchNormalization\n",
    "from keras.optimizers import Adam, RMSprop\n",
    "\n",
    "import scipy.ndimage\n",
    "from PIL import Image as PILImage\n",
    "\n",
    "import numpy as np\n",
    "import matplotlib.pyplot as plt\n",
    "from IPython.display import clear_output, Image\n",
    "\n",
    "from tensorflow.examples.tutorials.mnist import input_data\n"
   ]
  },
  {
   "cell_type": "code",
   "execution_count": 2,
   "metadata": {
    "collapsed": true
   },
   "outputs": [],
   "source": [
    "import keras.backend.tensorflow_backend as ktf\n",
    "import tensorflow as tf\n",
    "import os\n",
    "\n",
    "def get_session(gpu_fraction=0.45):\n",
    "    '''Assume that you have 6GB of GPU memory and want to allocate ~2GB'''\n",
    "\n",
    "    num_threads = os.environ.get('OMP_NUM_THREADS')\n",
    "    gpu_options = tf.GPUOptions(per_process_gpu_memory_fraction=gpu_fraction)\n",
    "\n",
    "    if num_threads:\n",
    "        return tf.Session(config=tf.ConfigProto(\n",
    "            gpu_options=gpu_options, intra_op_parallelism_threads=num_threads))\n",
    "    else:\n",
    "        return tf.Session(config=tf.ConfigProto(gpu_options=gpu_options))\n",
    "\n",
    "ktf.set_session(get_session())\n"
   ]
  },
  {
   "cell_type": "markdown",
   "metadata": {},
   "source": [
    "# Creating colorfull MNIST data\n",
    "\n",
    "The original MNIST dataset has only one channel which makes it easier for a GAN to tackle. Eventually though, we want to work with color images. To do this I'll show you a quick and easy way to create a custom \"colorfull MNIST\" dataset which can be used as input for a GAN.\n",
    "\n",
    "The same as berfore, we start with reading the original MNIST data. For this I use a small utility function from Tensorflow. The MNIST set is later used as a base for generating our colorfull images.\n"
   ]
  },
  {
   "cell_type": "code",
   "execution_count": 28,
   "metadata": {},
   "outputs": [
    {
     "name": "stdout",
     "output_type": "stream",
     "text": [
      "Extracting mnist/train-images-idx3-ubyte.gz\n",
      "Extracting mnist/train-labels-idx1-ubyte.gz\n",
      "Extracting mnist/t10k-images-idx3-ubyte.gz\n",
      "Extracting mnist/t10k-labels-idx1-ubyte.gz\n"
     ]
    }
   ],
   "source": [
    "# Read MNIST data\n",
    "x_train = input_data.read_data_sets(\"mnist\", one_hot=True).train.images\n",
    "x_train = x_train.reshape(-1, 28, 28, 1).astype(np.float32)"
   ]
  },
  {
   "cell_type": "markdown",
   "metadata": {},
   "source": [
    "With the MNIST images loaded we are going to map these to a 3-channel space. For this I apply a nice technique I adapted from a repository on [domain adaptation](https://github.com/davidtellez/adda_mnist64). The main idea is to blend an MNIST digit with a colorfull background. For this we use the popular \"[Lenna](https://en.wikipedia.org/wiki/Lenna)\" or \"[Lena](https://en.wikipedia.org/wiki/Lenna)\" image:"
   ]
  },
  {
   "cell_type": "code",
   "execution_count": 36,
   "metadata": {},
   "outputs": [
    {
     "data": {
      "image/png": "iVBORw0KGgoAAAANSUhEUgAAAQYAAAD8CAYAAACVSwr3AAAABHNCSVQICAgIfAhkiAAAAAlwSFlz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