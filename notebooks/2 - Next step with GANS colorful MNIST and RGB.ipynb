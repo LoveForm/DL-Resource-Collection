{
 "cells": [
  {
   "cell_type": "markdown",
   "metadata": {},
   "source": [
    "# MNIST with colors"
   ]
  },
  {
   "cell_type": "code",
   "execution_count": 1,
   "metadata": {},
   "outputs": [
    {
     "name": "stderr",
     "output_type": "stream",
     "text": [
      "Using TensorFlow backend.\n"
     ]
    }
   ],
   "source": [
    "from keras.models import Sequential\n",
    "from keras.layers import Dense, Activation, Flatten, Reshape\n",
    "from keras.layers import Conv2D, Conv2DTranspose, UpSampling2D\n",
    "from keras.layers import LeakyReLU, Dropout\n",
    "from keras.layers import BatchNormalization\n",
    "from keras.optimizers import Adam, RMSprop\n",
    "\n",
    "import scipy.ndimage\n",
    "from PIL import Image as PILImage\n",
    "\n",
    "import numpy as np\n",
    "import matplotlib.pyplot as plt\n",
    "from IPython.display import clear_output, Image\n",
    "\n",
    "from tensorflow.examples.tutorials.mnist import input_data\n"
   ]
  },
  {
   "cell_type": "code",
   "execution_count": 2,
   "metadata": {
    "collapsed": true
   },
   "outputs": [],
   "source": [
    "import keras.backend.tensorflow_backend as ktf\n",
    "import tensorflow as tf\n",
    "import os\n",
    "\n",
    "def get_session(gpu_fraction=0.45):\n",
    "    '''Assume that you have 6GB of GPU memory and want to allocate ~2GB'''\n",
    "\n",
    "    num_threads = os.environ.get('OMP_NUM_THREADS')\n",
    "    gpu_options = tf.GPUOptions(per_process_gpu_memory_fraction=gpu_fraction)\n",
    "\n",
    "    if num_threads:\n",
    "        return tf.Session(config=tf.ConfigProto(\n",
    "            gpu_options=gpu_options, intra_op_parallelism_threads=num_threads))\n",
    "    else:\n",
    "        return tf.Session(config=tf.ConfigProto(gpu_options=gpu_options))\n",
    "\n",
    "ktf.set_session(get_session())\n"
   ]
  },
  {
   "cell_type": "markdown",
   "metadata": {},
   "source": [
    "# Creating colorfull MNIST data\n",
    "\n",
    "The original MNIST dataset has only one channel which makes it easier for a GAN to tackle. Eventually though, we want to work with color images. To do this I'll show you a quick and easy way to create a custom \"colorfull MNIST\" dataset which can be used as input for a GAN.\n",
    "\n",
    "The same as berfore, we start with reading the original MNIST data. For this I use a small utility function from Tensorflow. The MNIST set is later used as a base for generating our colorfull images.\n"
   ]
  },
  {
   "cell_type": "code",
   "execution_count": 28,
   "metadata": {},
   "outputs": [
    {
     "name": "stdout",
     "output_type": "stream",
     "text": [
      "Extracting mnist/train-images-idx3-ubyte.gz\n",
      "Extracting mnist/train-labels-idx1-ubyte.gz\n",
      "Extracting mnist/t10k-images-idx3-ubyte.gz\n",
      "Extracting mnist/t10k-labels-idx1-ubyte.gz\n"
     ]
    }
   ],
   "source": [
    "# Read MNIST data\n",
    "x_train = input_data.read_data_sets(\"mnist\", one_hot=True).train.images\n",
    "x_train = x_train.reshape(-1, 28, 28, 1).astype(np.float32)"
   ]
  },
  {
   "cell_type": "markdown",
   "metadata": {},
   "source": [
    "With the MNIST images loaded we are going to map these to a 3-channel space. For this I apply a nice technique I adapted from a repository on [domain adaptation](https://github.com/davidtellez/adda_mnist64). The main idea is to blend an MNIST digit with a colorfull background. For this we use the popular \"[Lenna](https://en.wikipedia.org/wiki/Lenna)\" or \"[Lena](https://en.wikipedia.org/wiki/Lenna)\" image:"
   ]
  },
  {
   "cell_type": "code",
   "execution_count": 36,
   "metadata": {},
   "outputs": [
    {
     "data": {
      "image/png": "iVBORw0KGgoAAAANSUhEUgAAAQYAAAD8CAYAAACVSwr3AAAABHNCSVQICAgIfAhkiAAAAAlwSFlz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